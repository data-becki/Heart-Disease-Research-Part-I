{
 "cells": [
  {
   "cell_type": "markdown",
   "id": "b338679c",
   "metadata": {},
   "source": [
    "# Heart Disease Research Part I "
   ]
  },
  {
   "cell_type": "code",
   "execution_count": 1,
   "id": "aaa132ff",
   "metadata": {},
   "outputs": [],
   "source": [
    "import numpy as np\n",
    "import pandas as pd\n",
    "import matplotlib.pyplot as plt\n",
    "from scipy.stats import binom_test\n",
    "from scipy.stats import ttest_1samp"
   ]
  },
  {
   "cell_type": "markdown",
   "id": "d40d7922",
   "metadata": {},
   "source": [
    "In this project, you’ll investigate some data from a sample patients who were evaluated for heart disease at the Cleveland Clinic Foundation. The data was downloaded from the UCI Machine Learning Repository (https://archive.ics.uci.edu/ml/datasets/Heart+Disease) and then cleaned for analysis.\n",
    "\n",
    "The principal investigators responsible for data collection were:\n",
    "\n",
    "1.    Hungarian Institute of Cardiology. Budapest: Andras Janosi, M.D.\n",
    "2.    University Hospital, Zurich, Switzerland: William Steinbrunn, M.D.\n",
    "3.    University Hospital, Basel, Switzerland: Matthias Pfisterer, M.D.\n",
    "4.    V.A. Medical Center, Long Beach and Cleveland Clinic Foundation: Robert Detrano, M.D., Ph.D.\n"
   ]
  },
  {
   "cell_type": "code",
   "execution_count": 2,
   "id": "6ba1038d",
   "metadata": {},
   "outputs": [
    {
     "data": {
      "text/html": [
       "<div>\n",
       "<style scoped>\n",
       "    .dataframe tbody tr th:only-of-type {\n",
       "        vertical-align: middle;\n",
       "    }\n",
       "\n",
       "    .dataframe tbody tr th {\n",
       "        vertical-align: top;\n",
       "    }\n",
       "\n",
       "    .dataframe thead th {\n",
       "        text-align: right;\n",
       "    }\n",
       "</style>\n",
       "<table border=\"1\" class=\"dataframe\">\n",
       "  <thead>\n",
       "    <tr style=\"text-align: right;\">\n",
       "      <th></th>\n",
       "      <th>age</th>\n",
       "      <th>sex</th>\n",
       "      <th>trestbps</th>\n",
       "      <th>chol</th>\n",
       "      <th>cp</th>\n",
       "      <th>exang</th>\n",
       "      <th>fbs</th>\n",
       "      <th>thalach</th>\n",
       "      <th>heart_disease</th>\n",
       "    </tr>\n",
       "  </thead>\n",
       "  <tbody>\n",
       "    <tr>\n",
       "      <th>0</th>\n",
       "      <td>63.0</td>\n",
       "      <td>male</td>\n",
       "      <td>145.0</td>\n",
       "      <td>233.0</td>\n",
       "      <td>typical angina</td>\n",
       "      <td>0.0</td>\n",
       "      <td>1.0</td>\n",
       "      <td>150.0</td>\n",
       "      <td>absence</td>\n",
       "    </tr>\n",
       "    <tr>\n",
       "      <th>1</th>\n",
       "      <td>67.0</td>\n",
       "      <td>male</td>\n",
       "      <td>160.0</td>\n",
       "      <td>286.0</td>\n",
       "      <td>asymptomatic</td>\n",
       "      <td>1.0</td>\n",
       "      <td>0.0</td>\n",
       "      <td>108.0</td>\n",
       "      <td>presence</td>\n",
       "    </tr>\n",
       "    <tr>\n",
       "      <th>2</th>\n",
       "      <td>67.0</td>\n",
       "      <td>male</td>\n",
       "      <td>120.0</td>\n",
       "      <td>229.0</td>\n",
       "      <td>asymptomatic</td>\n",
       "      <td>1.0</td>\n",
       "      <td>0.0</td>\n",
       "      <td>129.0</td>\n",
       "      <td>presence</td>\n",
       "    </tr>\n",
       "    <tr>\n",
       "      <th>3</th>\n",
       "      <td>37.0</td>\n",
       "      <td>male</td>\n",
       "      <td>130.0</td>\n",
       "      <td>250.0</td>\n",
       "      <td>non-anginal pain</td>\n",
       "      <td>0.0</td>\n",
       "      <td>0.0</td>\n",
       "      <td>187.0</td>\n",
       "      <td>absence</td>\n",
       "    </tr>\n",
       "    <tr>\n",
       "      <th>4</th>\n",
       "      <td>41.0</td>\n",
       "      <td>female</td>\n",
       "      <td>130.0</td>\n",
       "      <td>204.0</td>\n",
       "      <td>atypical angina</td>\n",
       "      <td>0.0</td>\n",
       "      <td>0.0</td>\n",
       "      <td>172.0</td>\n",
       "      <td>absence</td>\n",
       "    </tr>\n",
       "  </tbody>\n",
       "</table>\n",
       "</div>"
      ],
      "text/plain": [
       "    age     sex  trestbps   chol                cp  exang  fbs  thalach  \\\n",
       "0  63.0    male     145.0  233.0    typical angina    0.0  1.0    150.0   \n",
       "1  67.0    male     160.0  286.0      asymptomatic    1.0  0.0    108.0   \n",
       "2  67.0    male     120.0  229.0      asymptomatic    1.0  0.0    129.0   \n",
       "3  37.0    male     130.0  250.0  non-anginal pain    0.0  0.0    187.0   \n",
       "4  41.0  female     130.0  204.0   atypical angina    0.0  0.0    172.0   \n",
       "\n",
       "  heart_disease  \n",
       "0       absence  \n",
       "1      presence  \n",
       "2      presence  \n",
       "3       absence  \n",
       "4       absence  "
      ]
     },
     "execution_count": 2,
     "metadata": {},
     "output_type": "execute_result"
    }
   ],
   "source": [
    "# load data\n",
    "heart = pd.read_csv('heart_disease.csv')\n",
    "yes_hd = heart[heart.heart_disease == 'presence']\n",
    "no_hd = heart[heart.heart_disease == 'absence']\n",
    "heart.head()"
   ]
  },
  {
   "cell_type": "markdown",
   "id": "df597a0e",
   "metadata": {},
   "source": [
    "## Cholesterol Analysis\n",
    "1. The full dataset has been loaded for you as `heart`, then split into two subsets:\n",
    "\n",
    "    -    `yes_hd`, which contains data for patients with heart disease\n",
    "    -    `no_hd`, which contains data for patients without heart disease\n",
    "\n",
    "   For this project, we’ll investigate the following variables:\n",
    "\n",
    "    -    `chol`: serum cholestorol in mg/dl\n",
    "    -    `fbs`: An indicator for whether fasting blood sugar is greater than 120 mg/dl (`1` = true; `0` = false)\n",
    "\n",
    "   To start, we’ll investigate cholesterol levels for patients with heart disease. Use the dataset `yes_hd` to save cholesterol levels for patients with heart disease as a variable named `chol_hd`."
   ]
  },
  {
   "cell_type": "code",
   "execution_count": 3,
   "id": "8a2fd6b7",
   "metadata": {},
   "outputs": [
    {
     "data": {
      "text/html": [
       "<div>\n",
       "<style scoped>\n",
       "    .dataframe tbody tr th:only-of-type {\n",
       "        vertical-align: middle;\n",
       "    }\n",
       "\n",
       "    .dataframe tbody tr th {\n",
       "        vertical-align: top;\n",
       "    }\n",
       "\n",
       "    .dataframe thead th {\n",
       "        text-align: right;\n",
       "    }\n",
       "</style>\n",
       "<table border=\"1\" class=\"dataframe\">\n",
       "  <thead>\n",
       "    <tr style=\"text-align: right;\">\n",
       "      <th></th>\n",
       "      <th>age</th>\n",
       "      <th>sex</th>\n",
       "      <th>trestbps</th>\n",
       "      <th>chol</th>\n",
       "      <th>cp</th>\n",
       "      <th>exang</th>\n",
       "      <th>fbs</th>\n",
       "      <th>thalach</th>\n",
       "      <th>heart_disease</th>\n",
       "    </tr>\n",
       "  </thead>\n",
       "  <tbody>\n",
       "    <tr>\n",
       "      <th>1</th>\n",
       "      <td>67.0</td>\n",
       "      <td>male</td>\n",
       "      <td>160.0</td>\n",
       "      <td>286.0</td>\n",
       "      <td>asymptomatic</td>\n",
       "      <td>1.0</td>\n",
       "      <td>0.0</td>\n",
       "      <td>108.0</td>\n",
       "      <td>presence</td>\n",
       "    </tr>\n",
       "    <tr>\n",
       "      <th>2</th>\n",
       "      <td>67.0</td>\n",
       "      <td>male</td>\n",
       "      <td>120.0</td>\n",
       "      <td>229.0</td>\n",
       "      <td>asymptomatic</td>\n",
       "      <td>1.0</td>\n",
       "      <td>0.0</td>\n",
       "      <td>129.0</td>\n",
       "      <td>presence</td>\n",
       "    </tr>\n",
       "    <tr>\n",
       "      <th>6</th>\n",
       "      <td>62.0</td>\n",
       "      <td>female</td>\n",
       "      <td>140.0</td>\n",
       "      <td>268.0</td>\n",
       "      <td>asymptomatic</td>\n",
       "      <td>0.0</td>\n",
       "      <td>0.0</td>\n",
       "      <td>160.0</td>\n",
       "      <td>presence</td>\n",
       "    </tr>\n",
       "    <tr>\n",
       "      <th>8</th>\n",
       "      <td>63.0</td>\n",
       "      <td>male</td>\n",
       "      <td>130.0</td>\n",
       "      <td>254.0</td>\n",
       "      <td>asymptomatic</td>\n",
       "      <td>0.0</td>\n",
       "      <td>0.0</td>\n",
       "      <td>147.0</td>\n",
       "      <td>presence</td>\n",
       "    </tr>\n",
       "    <tr>\n",
       "      <th>9</th>\n",
       "      <td>53.0</td>\n",
       "      <td>male</td>\n",
       "      <td>140.0</td>\n",
       "      <td>203.0</td>\n",
       "      <td>asymptomatic</td>\n",
       "      <td>1.0</td>\n",
       "      <td>1.0</td>\n",
       "      <td>155.0</td>\n",
       "      <td>presence</td>\n",
       "    </tr>\n",
       "  </tbody>\n",
       "</table>\n",
       "</div>"
      ],
      "text/plain": [
       "    age     sex  trestbps   chol            cp  exang  fbs  thalach  \\\n",
       "1  67.0    male     160.0  286.0  asymptomatic    1.0  0.0    108.0   \n",
       "2  67.0    male     120.0  229.0  asymptomatic    1.0  0.0    129.0   \n",
       "6  62.0  female     140.0  268.0  asymptomatic    0.0  0.0    160.0   \n",
       "8  63.0    male     130.0  254.0  asymptomatic    0.0  0.0    147.0   \n",
       "9  53.0    male     140.0  203.0  asymptomatic    1.0  1.0    155.0   \n",
       "\n",
       "  heart_disease  \n",
       "1      presence  \n",
       "2      presence  \n",
       "6      presence  \n",
       "8      presence  \n",
       "9      presence  "
      ]
     },
     "execution_count": 3,
     "metadata": {},
     "output_type": "execute_result"
    }
   ],
   "source": [
    "yes_hd.head()"
   ]
  },
  {
   "cell_type": "code",
   "execution_count": 4,
   "id": "4a7f4132",
   "metadata": {},
   "outputs": [
    {
     "data": {
      "text/html": [
       "<div>\n",
       "<style scoped>\n",
       "    .dataframe tbody tr th:only-of-type {\n",
       "        vertical-align: middle;\n",
       "    }\n",
       "\n",
       "    .dataframe tbody tr th {\n",
       "        vertical-align: top;\n",
       "    }\n",
       "\n",
       "    .dataframe thead th {\n",
       "        text-align: right;\n",
       "    }\n",
       "</style>\n",
       "<table border=\"1\" class=\"dataframe\">\n",
       "  <thead>\n",
       "    <tr style=\"text-align: right;\">\n",
       "      <th></th>\n",
       "      <th>age</th>\n",
       "      <th>sex</th>\n",
       "      <th>trestbps</th>\n",
       "      <th>chol</th>\n",
       "      <th>cp</th>\n",
       "      <th>exang</th>\n",
       "      <th>fbs</th>\n",
       "      <th>thalach</th>\n",
       "      <th>heart_disease</th>\n",
       "    </tr>\n",
       "  </thead>\n",
       "  <tbody>\n",
       "    <tr>\n",
       "      <th>0</th>\n",
       "      <td>63.0</td>\n",
       "      <td>male</td>\n",
       "      <td>145.0</td>\n",
       "      <td>233.0</td>\n",
       "      <td>typical angina</td>\n",
       "      <td>0.0</td>\n",
       "      <td>1.0</td>\n",
       "      <td>150.0</td>\n",
       "      <td>absence</td>\n",
       "    </tr>\n",
       "    <tr>\n",
       "      <th>3</th>\n",
       "      <td>37.0</td>\n",
       "      <td>male</td>\n",
       "      <td>130.0</td>\n",
       "      <td>250.0</td>\n",
       "      <td>non-anginal pain</td>\n",
       "      <td>0.0</td>\n",
       "      <td>0.0</td>\n",
       "      <td>187.0</td>\n",
       "      <td>absence</td>\n",
       "    </tr>\n",
       "    <tr>\n",
       "      <th>4</th>\n",
       "      <td>41.0</td>\n",
       "      <td>female</td>\n",
       "      <td>130.0</td>\n",
       "      <td>204.0</td>\n",
       "      <td>atypical angina</td>\n",
       "      <td>0.0</td>\n",
       "      <td>0.0</td>\n",
       "      <td>172.0</td>\n",
       "      <td>absence</td>\n",
       "    </tr>\n",
       "    <tr>\n",
       "      <th>5</th>\n",
       "      <td>56.0</td>\n",
       "      <td>male</td>\n",
       "      <td>120.0</td>\n",
       "      <td>236.0</td>\n",
       "      <td>atypical angina</td>\n",
       "      <td>0.0</td>\n",
       "      <td>0.0</td>\n",
       "      <td>178.0</td>\n",
       "      <td>absence</td>\n",
       "    </tr>\n",
       "    <tr>\n",
       "      <th>7</th>\n",
       "      <td>57.0</td>\n",
       "      <td>female</td>\n",
       "      <td>120.0</td>\n",
       "      <td>354.0</td>\n",
       "      <td>asymptomatic</td>\n",
       "      <td>1.0</td>\n",
       "      <td>0.0</td>\n",
       "      <td>163.0</td>\n",
       "      <td>absence</td>\n",
       "    </tr>\n",
       "  </tbody>\n",
       "</table>\n",
       "</div>"
      ],
      "text/plain": [
       "    age     sex  trestbps   chol                cp  exang  fbs  thalach  \\\n",
       "0  63.0    male     145.0  233.0    typical angina    0.0  1.0    150.0   \n",
       "3  37.0    male     130.0  250.0  non-anginal pain    0.0  0.0    187.0   \n",
       "4  41.0  female     130.0  204.0   atypical angina    0.0  0.0    172.0   \n",
       "5  56.0    male     120.0  236.0   atypical angina    0.0  0.0    178.0   \n",
       "7  57.0  female     120.0  354.0      asymptomatic    1.0  0.0    163.0   \n",
       "\n",
       "  heart_disease  \n",
       "0       absence  \n",
       "3       absence  \n",
       "4       absence  \n",
       "5       absence  \n",
       "7       absence  "
      ]
     },
     "execution_count": 4,
     "metadata": {},
     "output_type": "execute_result"
    }
   ],
   "source": [
    "no_hd.head()"
   ]
  },
  {
   "cell_type": "code",
   "execution_count": 5,
   "id": "2db5f0c0",
   "metadata": {},
   "outputs": [],
   "source": [
    "chol_hd = yes_hd.chol"
   ]
  },
  {
   "cell_type": "code",
   "execution_count": 6,
   "id": "e5b7136c",
   "metadata": {},
   "outputs": [
    {
     "data": {
      "text/plain": [
       "1    286.0\n",
       "2    229.0\n",
       "6    268.0\n",
       "8    254.0\n",
       "9    203.0\n",
       "Name: chol, dtype: float64"
      ]
     },
     "execution_count": 6,
     "metadata": {},
     "output_type": "execute_result"
    }
   ],
   "source": [
    "chol_hd.head()"
   ]
  },
  {
   "cell_type": "markdown",
   "id": "29f8e067",
   "metadata": {},
   "source": [
    "2. In general, total cholesterol over 240 mg/dl is considered “high” (and therefore unhealthy). Calculate the mean cholesterol level for patients who were diagnosed with heart disease and print it out. Is it higher than 240 mg/dl?"
   ]
  },
  {
   "cell_type": "code",
   "execution_count": 8,
   "id": "bda08483",
   "metadata": {},
   "outputs": [
    {
     "name": "stdout",
     "output_type": "stream",
     "text": [
      "Mean cholestoral for patients with heart disease is higher than 240 mg/dl at 251.47 mg/dl\n",
      "\n"
     ]
    }
   ],
   "source": [
    "chol_mean = np.mean(chol_hd)\n",
    "\n",
    "if chol_mean > 240:\n",
    "    print('Mean cholestoral for patients with heart disease is higher than 240 mg/dl at ' + str(round(chol_mean, 2)) + ' mg/dl' + '\\n')\n",
    "else:\n",
    "    print('Mean cholestoral for patients with heart disease is lower than 240 mg/dl at ' + str(round(chol_mean, 2)) + ' mg/dl')"
   ]
  },
  {
   "cell_type": "markdown",
   "id": "dac4044a",
   "metadata": {},
   "source": [
    "3. Do people with heart disease have high cholesterol levels (greater than or equal to 240 mg/dl) on average? Import the function from `scipy.stats` that you can use to test the following null and alternative hypotheses:\n",
    "\n",
    "    -    Null: People with heart disease have an average cholesterol level equal to 240 mg/dl\n",
    "    -    Alternative: People with heart disease have an average cholesterol level that is **greater** than 240 mg/dl\n",
    "\n",
    "   Note: Unfortunately, the `scipy.stats` function we’ve been using does not (at the time of writing) have an alternative parameter to change the alternative hypothesis for this test. Therefore, you’ll have to run a two-sided test. However, since you calculated earlier that the average cholesterol level for heart disease patients is greater than 240 mg/dl, you can calculate the p-value for the one-sided test indicated above simply by dividing the two-sided p-value in half.\n",
    "\n",
    "    Imported `ttest_1samp` at beginning."
   ]
  },
  {
   "cell_type": "markdown",
   "id": "94bb8600",
   "metadata": {},
   "source": [
    "4. Run the hypothesis test indicated in task 3 and print out the p-value. Can you conclude that heart disease patients have an average cholesterol level significantly greater than 240 mg/dl? Use a significance threshold of 0.05.\n",
    "\n",
    "   `ttest_1samp` has two inputs: \n",
    "    - the sample of values (in this case, the cholesterol levels for patients with heart disease) \n",
    "    - the null value (in this case, 240). \n",
    "\n",
    "   It has two outputs, the t-statstic and a p-value.\n",
    "\n",
    "   When you divide the p-value by two (in order to run the one-sided test), you should get a p-value of 0.0035. This is less than 0.05, suggesting that heart disease patients have an average cholesterol level significantly higher than 240 mg/dl."
   ]
  },
  {
   "cell_type": "code",
   "execution_count": 9,
   "id": "9f3435c3",
   "metadata": {},
   "outputs": [
    {
     "name": "stdout",
     "output_type": "stream",
     "text": [
      "The p-value of 0.0035 is significant.\n"
     ]
    }
   ],
   "source": [
    "tstat, pval = ttest_1samp(chol_hd, 240)\n",
    "\n",
    "if pval/2 > 0.05:\n",
    "    print('The p-value of ' + str(round(pval/2,4)) + ' is not significant.')\n",
    "else:\n",
    "    print('The p-value of ' + str(round(pval/2,4)) + ' is significant.')"
   ]
  },
  {
   "cell_type": "markdown",
   "id": "e45210a6",
   "metadata": {},
   "source": [
    "5. Repeat steps 1-4 in order to run the same hypothesis test, but for patients in the sample who were not diagnosed with heart disease. Do patients without heart disease have average cholesterol levels significantly above 240 mg/dl?\n"
   ]
  },
  {
   "cell_type": "code",
   "execution_count": 11,
   "id": "1018a822",
   "metadata": {},
   "outputs": [],
   "source": [
    "chol_hd_n = no_hd.chol"
   ]
  },
  {
   "cell_type": "code",
   "execution_count": 12,
   "id": "7b71a139",
   "metadata": {},
   "outputs": [
    {
     "name": "stdout",
     "output_type": "stream",
     "text": [
      "Mean cholestoral for patients without heart disease is higher than 240 mg/dl at 242.64 mg/dl\n",
      "\n"
     ]
    }
   ],
   "source": [
    "chol_mean_n = np.mean(chol_hd_n)\n",
    "\n",
    "if chol_mean_n > 240:\n",
    "    print('Mean cholestoral for patients without heart disease is higher than 240 mg/dl at ' + str(round(chol_mean_n,2)) + ' mg/dl' + '\\n')\n",
    "else:\n",
    "    print('Mean cholestoral for patients without heart disease is lower than 240 mg/dl at ' + str(round(chol_mean_n,2)) + ' mg/dl')"
   ]
  },
  {
   "cell_type": "code",
   "execution_count": 14,
   "id": "341b1598",
   "metadata": {},
   "outputs": [
    {
     "name": "stdout",
     "output_type": "stream",
     "text": [
      "The p-value of 0.264 is not significant.\n"
     ]
    }
   ],
   "source": [
    "tstat_n, pval_n = ttest_1samp(chol_hd_n, 240)\n",
    "\n",
    "if pval_n/2 > 0.05:\n",
    "    print('The p-value of ' + str(round(pval_n/2,4)) + ' is not significant.')\n",
    "else:\n",
    "    print('The p-value of ' + str(round(pval_n/2,4)) + ' is significant.')"
   ]
  },
  {
   "cell_type": "markdown",
   "id": "d7384248",
   "metadata": {},
   "source": [
    "## Fasting Blood Sugar Analysis\n",
    "6. Let’s now return to the full dataset (saved as `heart`). How many patients are there in this dataset? Save the number of patients as `num_patients` and print it out."
   ]
  },
  {
   "cell_type": "code",
   "execution_count": 15,
   "id": "dc3455e2",
   "metadata": {},
   "outputs": [
    {
     "name": "stdout",
     "output_type": "stream",
     "text": [
      "Number of patients: 303\n"
     ]
    }
   ],
   "source": [
    "num_patients = len(heart)\n",
    "print('Number of patients: ' + str(num_patients))"
   ]
  },
  {
   "cell_type": "markdown",
   "id": "14d3855b",
   "metadata": {},
   "source": [
    "7. Remember that the `fbs` column of this dataset indicates whether or not a patient’s fasting blood sugar was greater than 120 mg/dl (`1` means that their fasting blood sugar was greater than 120 mg/dl; 0 means it was less than or equal to 120 mg/dl).\n",
    "\n",
    "   Calculate the number of patients with fasting blood sugar greater than 120. Save this number as `num_highfbs_patients` and print it out."
   ]
  },
  {
   "cell_type": "code",
   "execution_count": 16,
   "id": "fa3f9055",
   "metadata": {},
   "outputs": [
    {
     "name": "stdout",
     "output_type": "stream",
     "text": [
      "The number of patients with high blood sugar is 45.0\n",
      "\n"
     ]
    }
   ],
   "source": [
    "num_highfbs_patients = np.sum(heart.fbs)\n",
    "print('The number of patients with high blood sugar is ' + str(num_highfbs_patients) + '\\n')"
   ]
  },
  {
   "cell_type": "markdown",
   "id": "00ca2932",
   "metadata": {},
   "source": [
    "8. Sometimes, part of an analysis will involve comparing a sample to known population values to see if the sample appears to be representative of the general population.\n",
    "\n",
    "   By some estimates, about 8% of the U.S. population had diabetes (diagnosed or undiagnosed) in 1988 when this data was collected. While there are multiple tests that contribute to a diabetes diagnosis, fasting blood sugar levels greater than 120 mg/dl can be indicative of diabetes (or at least, pre-diabetes). If this sample were representative of the population, approximately how many people would you expect to have diabetes? Calculate and print out this number.\n",
    "\n",
    "   Is this value similar to the number of patients with a resting blood sugar above 120 mg/dl — or different?"
   ]
  },
  {
   "cell_type": "code",
   "execution_count": 19,
   "id": "2f31fcbe",
   "metadata": {},
   "outputs": [
    {
     "name": "stdout",
     "output_type": "stream",
     "text": [
      "Estimated percent of patients with high fasting blood sugar: 14.9%\n",
      "\n",
      "We should have 24.2% patients with high fasting blood sugar.\n",
      "\n"
     ]
    }
   ],
   "source": [
    "percent_diab = round(((num_highfbs_patients/num_patients)*100), 1)\n",
    "print('Estimated percent of patients with high fasting blood sugar: ' + str(percent_diab) + '%' + '\\n')\n",
    "# or\n",
    "pop_percent = round((0.08*num_patients), 1)\n",
    "print('We should have ' + str(pop_percent) + '% patients with high fasting blood sugar.' + '\\n')"
   ]
  },
  {
   "cell_type": "markdown",
   "id": "e99ad62a",
   "metadata": {},
   "source": [
    "9. Does this sample come from a population in which the rate of fbs > 120 mg/dl is equal to 8%? Import the function from `scipy.stats` that you can use to test the following null and alternative hypotheses:\n",
    "\n",
    "    -    Null: This sample was drawn from a population where 8% of people have fasting blood sugar > 120 mg/dl\n",
    "    -    Alternative: This sample was drawn from a population where more than 8% of people have fasting blood sugar > 120 mg/dl\n",
    "\n",
    "   Imported `binom_test` at beginning."
   ]
  },
  {
   "cell_type": "markdown",
   "id": "be8fb89d",
   "metadata": {},
   "source": [
    "10. Run the hypothesis test indicated in task 9 and print out the p-value. Using a significance threshold of 0.05, can you conclude that this sample was drawn from a population where the rate of fasting blood sugar > 120 mg/dl is significantly greater than 8%?"
   ]
  },
  {
   "cell_type": "code",
   "execution_count": 20,
   "id": "2898b467",
   "metadata": {},
   "outputs": [
    {
     "name": "stdout",
     "output_type": "stream",
     "text": [
      "4.689471951448875e-05 is less than 0.05. Our patients are from a population where the rate of fasting blood sugar > 120 mg/dl is significantly greater than 8%. \n",
      "\n"
     ]
    }
   ],
   "source": [
    "#  the number of observed successes, the number of total trials, and an expected probability of success.\n",
    "p_value_1sided = binom_test(45, n=303, p=0.08, alternative = 'greater')\n",
    "\n",
    "if p_value_1sided > 0.05:\n",
    "    print(str(p_value_1sided) + ' is greater than 0.05. Our patients are not from a population where the rate of fasting blood sugar > 120 mg/dl is significantly greater than 8%. \\n')\n",
    "else:\n",
    "    print(str(p_value_1sided) + ' is less than 0.05. Our patients are from a population where the rate of fasting blood sugar > 120 mg/dl is significantly greater than 8%. \\n')"
   ]
  }
 ],
 "metadata": {
  "kernelspec": {
   "display_name": "Python 3 (ipykernel)",
   "language": "python",
   "name": "python3"
  },
  "language_info": {
   "codemirror_mode": {
    "name": "ipython",
    "version": 3
   },
   "file_extension": ".py",
   "mimetype": "text/x-python",
   "name": "python",
   "nbconvert_exporter": "python",
   "pygments_lexer": "ipython3",
   "version": "3.9.7"
  }
 },
 "nbformat": 4,
 "nbformat_minor": 5
}
